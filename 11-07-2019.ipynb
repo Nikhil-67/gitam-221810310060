{
 "cells": [
  {
   "cell_type": "markdown",
   "metadata": {},
   "source": [
    "## Standard libraries\n",
    " - file I/O\n",
    " - Regular expression\n",
    " - Datetime\n",
    " - Math(numerical and Mathematical)\n",
    " "
   ]
  },
  {
   "cell_type": "markdown",
   "metadata": {},
   "source": [
    " ## File Handling in Python\n",
    " - File:-Documentr containing info resides on the permanent storage\n",
    " - Different types of files :-txt,doc,pdf,csv and etc.......\n",
    " - Input:-Keyboard\n",
    " - Output:-File\n",
    " \n",
    " \n",
    " ### Modes of the file I/O\n",
    " - 'w'--This mode is used to file writing\n",
    " \n",
    "      --If file is not present first it creates the file and write some data to it\n",
    "      \n",
    "      --If file is already present it will rewrite the previous content"
   ]
  },
  {
   "cell_type": "code",
   "execution_count": 5,
   "metadata": {},
   "outputs": [
    {
     "name": "stdout",
     "output_type": "stream",
     "text": [
      "file is created and data has written\n"
     ]
    }
   ],
   "source": [
    "# Function to create a file and write to the file\n",
    "def createfile(filename):\n",
    "    f=open(filename,'w')\n",
    "    for i in range(10):\n",
    "        f.write(\"this is %d line\\n\" % i)\n",
    "    print(\"file is created and data has written\")\n",
    "    return\n",
    "createfile(\"file1.txt\")"
   ]
  },
  {
   "cell_type": "code",
   "execution_count": 6,
   "metadata": {},
   "outputs": [
    {
     "name": "stdout",
     "output_type": "stream",
     "text": [
      "11-07-2019.ipynb   \u001b[0m\u001b[01;34mdoc\u001b[0m/         \u001b[01;34mphrasebooks\u001b[0m/   Untitled1.ipynb\r\n",
      "6-07-2019 a.ipynb  \u001b[01;34menvs\u001b[0m/        \u001b[01;34mpkgs\u001b[0m/          Untitled2.ipynb\r\n",
      "6-07-2019b.ipynb   \u001b[01;34metc\u001b[0m/         \u001b[01;34mplugins\u001b[0m/       Untitled3.ipynb\r\n",
      "6-07-2019.ipynb    file1.txt    \u001b[01;34mqml\u001b[0m/           Untitled4.ipynb\r\n",
      "9-07-2019.ipynb    \u001b[01;34minclude\u001b[0m/     \u001b[01;34mresources\u001b[0m/     Untitled5.ipynb\r\n",
      "assignment.ipynb   \u001b[01;34mlib\u001b[0m/         \u001b[01;34msbin\u001b[0m/          Untitled6.ipynb\r\n",
      "\u001b[01;34mbin\u001b[0m/               \u001b[01;34mlibexec\u001b[0m/     \u001b[01;34mshare\u001b[0m/         Untitled7.ipynb\r\n",
      "\u001b[01;34mcompiler_compat\u001b[0m/   LICENSE.txt  \u001b[01;34mshell\u001b[0m/         Untitled.ipynb\r\n",
      "\u001b[01;34mcondabin\u001b[0m/          \u001b[01;34mman\u001b[0m/         \u001b[01;34mssl\u001b[0m/           \u001b[01;34mvar\u001b[0m/\r\n",
      "\u001b[01;34mconda-meta\u001b[0m/        \u001b[01;34mmkspecs\u001b[0m/     \u001b[01;34mtranslations\u001b[0m/  \u001b[01;34mx86_64-conda_cos6-linux-gnu\u001b[0m/\r\n"
     ]
    }
   ],
   "source": [
    "ls\n"
   ]
  },
  {
   "cell_type": "code",
   "execution_count": 52,
   "metadata": {},
   "outputs": [
    {
     "name": "stdout",
     "output_type": "stream",
     "text": [
      "file is created and data has written\n"
     ]
    }
   ],
   "source": [
    "def createfile(filename):\n",
    "    f=open(filename,'w')\n",
    "    f.write(\"testing...\\n\")\n",
    "    print(\"file is created and data has written\")\n",
    "    return\n",
    "createfile(\"file1.txt\")"
   ]
  },
  {
   "cell_type": "code",
   "execution_count": 53,
   "metadata": {},
   "outputs": [
    {
     "name": "stdout",
     "output_type": "stream",
     "text": [
      "11-07-2019.ipynb   \u001b[0m\u001b[01;34menvs\u001b[0m/         \u001b[01;34mpkgs\u001b[0m/            Untitled3.ipynb\r\n",
      "6-07-2019 a.ipynb  \u001b[01;34metc\u001b[0m/          \u001b[01;34mplugins\u001b[0m/         Untitled4.ipynb\r\n",
      "6-07-2019b.ipynb   file1.txt     \u001b[01;34mqml\u001b[0m/             Untitled5.ipynb\r\n",
      "6-07-2019.ipynb    file2.txt     \u001b[01;34mresources\u001b[0m/       Untitled6.ipynb\r\n",
      "9-07-2019.ipynb    \u001b[01;34minclude\u001b[0m/      \u001b[01;34msbin\u001b[0m/            Untitled7.ipynb\r\n",
      "assignment.ipynb   \u001b[01;34mlib\u001b[0m/          \u001b[01;34mshare\u001b[0m/           Untitled.ipynb\r\n",
      "\u001b[01;34mbin\u001b[0m/               \u001b[01;34mlibexec\u001b[0m/      \u001b[01;34mshell\u001b[0m/           \u001b[01;34mvar\u001b[0m/\r\n",
      "\u001b[01;34mcompiler_compat\u001b[0m/   LICENSE.txt   \u001b[01;34mssl\u001b[0m/             \u001b[01;34mx86_64-conda_cos6-linux-gnu\u001b[0m/\r\n",
      "\u001b[01;34mcondabin\u001b[0m/          \u001b[01;34mman\u001b[0m/          \u001b[01;34mtranslations\u001b[0m/\r\n",
      "\u001b[01;34mconda-meta\u001b[0m/        \u001b[01;34mmkspecs\u001b[0m/      Untitled1.ipynb\r\n",
      "\u001b[01;34mdoc\u001b[0m/               \u001b[01;34mphrasebooks\u001b[0m/  Untitled2.ipynb\r\n"
     ]
    }
   ],
   "source": [
    "ls\n"
   ]
  },
  {
   "cell_type": "code",
   "execution_count": 54,
   "metadata": {},
   "outputs": [
    {
     "name": "stdout",
     "output_type": "stream",
     "text": [
      "file created and successfully data written\n"
     ]
    }
   ],
   "source": [
    "def appenddata(filename):\n",
    "    f=open(filename,'w')\n",
    "    for i in range(10):\n",
    "        f.write(\"this is % d Line\\n\"%i)\n",
    "    print(\"file created and successfully data written\")\n",
    "    return\n",
    "appenddata('file2.txt')"
   ]
  },
  {
   "cell_type": "code",
   "execution_count": 55,
   "metadata": {},
   "outputs": [
    {
     "name": "stdout",
     "output_type": "stream",
     "text": [
      "file is created and successfully data written\n"
     ]
    }
   ],
   "source": [
    "def appenddata(filename):\n",
    "    f=open(filename,'a')\n",
    "    f.write(\"new line 1\\n\")\n",
    "    f.write(\"new line 2\\n\")\n",
    "    print(\"file is created and successfully data written\")\n",
    "    return\n",
    "appenddata('file2.txt')"
   ]
  },
  {
   "cell_type": "code",
   "execution_count": 56,
   "metadata": {},
   "outputs": [
    {
     "name": "stdout",
     "output_type": "stream",
     "text": [
      "this is  0 Line\n",
      "this is  1 Line\n",
      "this is  2 Line\n",
      "this is  3 Line\n",
      "this is  4 Line\n",
      "this is  5 Line\n",
      "this is  6 Line\n",
      "this is  7 Line\n",
      "this is  8 Line\n",
      "this is  9 Line\n",
      "new line 1\n",
      "new line 2\n",
      "\n"
     ]
    }
   ],
   "source": [
    "# Function to read the file\n",
    "def readfile(filename):\n",
    "    f=open(filename,'r')\n",
    "    if f.mode=='r':\n",
    "        x=f.read()\n",
    "        print(x)\n",
    "    f.close()\n",
    "    return\n",
    "readfile('file2.txt')"
   ]
  },
  {
   "cell_type": "code",
   "execution_count": 58,
   "metadata": {},
   "outputs": [
    {
     "name": "stdout",
     "output_type": "stream",
     "text": [
      "enter the filenamefile2.txt\n",
      "enrter the mode of the filer\n",
      "this is  0 Line\n",
      "this is  1 Line\n",
      "this is  2 Line\n",
      "this is  3 Line\n",
      "this is  4 Line\n",
      "this is  5 Line\n",
      "this is  6 Line\n",
      "this is  7 Line\n",
      "this is  8 Line\n",
      "this is  9 Line\n",
      "new line 1\n",
      "new line 2\n",
      "\n"
     ]
    }
   ],
   "source": [
    "# Function to read the file\n",
    "def fileoperations(filename,mode):\n",
    "    with open(filename,mode) as f:\n",
    "        if f.mode=='r':\n",
    "            data=f.read()\n",
    "            print(data)\n",
    "        elif f.mode=='a':\n",
    "            f.write('data to the file')\n",
    "            print(\"the data successfully written\")\n",
    "    f.close()\n",
    "    return\n",
    "filename=input('enter the filename')\n",
    "mode=input('enrter the mode of the file')\n",
    "fileoperations(filename,mode)"
   ]
  },
  {
   "cell_type": "code",
   "execution_count": 59,
   "metadata": {},
   "outputs": [
    {
     "name": "stdout",
     "output_type": "stream",
     "text": [
      "enter the file name :file2.txt\n",
      "enter the word:this\n"
     ]
    },
    {
     "data": {
      "text/plain": [
       "10"
      ]
     },
     "execution_count": 59,
     "metadata": {},
     "output_type": "execute_result"
    }
   ],
   "source": [
    "# Data analysis\n",
    "# Word count program\n",
    "def wordcount(filename,word):\n",
    "    with open(filename,'r')as f:\n",
    "        if f.mode=='r':\n",
    "            x=f.read()\n",
    "            li=x.split() # It splits the string with whitespace\n",
    "    cnt =li.count(word)\n",
    "    return cnt\n",
    "filename=input('enter the file name :')\n",
    "word=input('enter the word:')\n",
    "wordcount(filename,word)"
   ]
  },
  {
   "cell_type": "code",
   "execution_count": 60,
   "metadata": {},
   "outputs": [
    {
     "name": "stdout",
     "output_type": "stream",
     "text": [
      "enter the filename:file2.txt\n"
     ]
    },
    {
     "data": {
      "text/plain": [
       "182"
      ]
     },
     "execution_count": 60,
     "metadata": {},
     "output_type": "execute_result"
    }
   ],
   "source": [
    "# character count from the given file\n",
    "def charcount(filename):\n",
    "    with open(filename,'r')as f:\n",
    "        if f.mode=='r':\n",
    "            x=f.read()\n",
    "            li=list(x) #convert the string-char\n",
    "    return len(li)\n",
    "filename=input('enter the filename:')\n",
    "charcount(filename)"
   ]
  },
  {
   "cell_type": "code",
   "execution_count": 63,
   "metadata": {},
   "outputs": [
    {
     "name": "stdout",
     "output_type": "stream",
     "text": [
      "['', 'ython ', 'rogramming']\n"
     ]
    }
   ],
   "source": [
    "s1='python programming'\n",
    "print(s1.split('p'))"
   ]
  },
  {
   "cell_type": "code",
   "execution_count": 64,
   "metadata": {},
   "outputs": [
    {
     "name": "stdout",
     "output_type": "stream",
     "text": [
      "['python pro', 'rammin', '']\n"
     ]
    }
   ],
   "source": [
    "s1='python programming'\n",
    "print(s1.split('g'))"
   ]
  },
  {
   "cell_type": "code",
   "execution_count": 66,
   "metadata": {},
   "outputs": [
    {
     "name": "stdout",
     "output_type": "stream",
     "text": [
      "enter the file namefile2.txt\n"
     ]
    },
    {
     "data": {
      "text/plain": [
       "13"
      ]
     },
     "execution_count": 66,
     "metadata": {},
     "output_type": "execute_result"
    }
   ],
   "source": [
    "#Function to find the no of lines in the input file\n",
    "# Input -- filename(file2.txt)\n",
    "# Output -- no of lines(12)\n",
    "def countoflines(filename):\n",
    "    with open(filename,'r')as f:\n",
    "        if f.mode=='r':\n",
    "            x=f.read()\n",
    "            li=x.split(\"\\n\")\n",
    "    return len(li)\n",
    "filename=input('enter the file name')\n",
    "countoflines(filename)"
   ]
  },
  {
   "cell_type": "code",
   "execution_count": 70,
   "metadata": {},
   "outputs": [
    {
     "name": "stdout",
     "output_type": "stream",
     "text": [
      "enter the filename:file2.txt\n"
     ]
    },
    {
     "data": {
      "text/plain": [
       "'Upper case=10,lower case=104'"
      ]
     },
     "execution_count": 70,
     "metadata": {},
     "output_type": "execute_result"
    }
   ],
   "source": [
    "#Function to print the upper and lower characters\n",
    "def casecount(filename):\n",
    "    cntupper=0\n",
    "    cntlower=0\n",
    "    with open(filename,'r')as f:\n",
    "        if f.mode=='r':\n",
    "            x=f.read()\n",
    "            li=list(x)\n",
    "    for i in li:\n",
    "        if i.isupper():\n",
    "            cntupper+=1 #cntUpper=cntUpper+1\n",
    "        elif i.islower():\n",
    "            cntlower+=1\n",
    "    output='Upper case={0},lower case={1}'.format(cntupper,cntlower)\n",
    "    return output\n",
    "filename=input('enter the filename:')\n",
    "casecount(filename)"
   ]
  },
  {
   "cell_type": "markdown",
   "metadata": {},
   "source": [
    "## Math,random,os\n",
    " - os package conntains the certain methods which work with OS"
   ]
  },
  {
   "cell_type": "code",
   "execution_count": 71,
   "metadata": {},
   "outputs": [
    {
     "name": "stdout",
     "output_type": "stream",
     "text": [
      "11-07-2019.ipynb   \u001b[0m\u001b[01;34menvs\u001b[0m/         \u001b[01;34mpkgs\u001b[0m/            Untitled3.ipynb\r\n",
      "6-07-2019 a.ipynb  \u001b[01;34metc\u001b[0m/          \u001b[01;34mplugins\u001b[0m/         Untitled4.ipynb\r\n",
      "6-07-2019b.ipynb   file1.txt     \u001b[01;34mqml\u001b[0m/             Untitled5.ipynb\r\n",
      "6-07-2019.ipynb    file2.txt     \u001b[01;34mresources\u001b[0m/       Untitled6.ipynb\r\n",
      "9-07-2019.ipynb    \u001b[01;34minclude\u001b[0m/      \u001b[01;34msbin\u001b[0m/            Untitled7.ipynb\r\n",
      "assignment.ipynb   \u001b[01;34mlib\u001b[0m/          \u001b[01;34mshare\u001b[0m/           Untitled.ipynb\r\n",
      "\u001b[01;34mbin\u001b[0m/               \u001b[01;34mlibexec\u001b[0m/      \u001b[01;34mshell\u001b[0m/           \u001b[01;34mvar\u001b[0m/\r\n",
      "\u001b[01;34mcompiler_compat\u001b[0m/   LICENSE.txt   \u001b[01;34mssl\u001b[0m/             \u001b[01;34mx86_64-conda_cos6-linux-gnu\u001b[0m/\r\n",
      "\u001b[01;34mcondabin\u001b[0m/          \u001b[01;34mman\u001b[0m/          \u001b[01;34mtranslations\u001b[0m/\r\n",
      "\u001b[01;34mconda-meta\u001b[0m/        \u001b[01;34mmkspecs\u001b[0m/      Untitled1.ipynb\r\n",
      "\u001b[01;34mdoc\u001b[0m/               \u001b[01;34mphrasebooks\u001b[0m/  Untitled2.ipynb\r\n"
     ]
    }
   ],
   "source": [
    "ls"
   ]
  },
  {
   "cell_type": "code",
   "execution_count": 74,
   "metadata": {},
   "outputs": [
    {
     "data": {
      "text/plain": [
       "['resources',\n",
       " 'translations',\n",
       " 'condabin',\n",
       " 'Untitled2.ipynb',\n",
       " 'Untitled7.ipynb',\n",
       " '6-07-2019.ipynb',\n",
       " 'Untitled4.ipynb',\n",
       " 'bin',\n",
       " 'Untitled5.ipynb',\n",
       " '6-07-2019 a.ipynb',\n",
       " 'phrasebooks',\n",
       " 'plugins',\n",
       " 'include',\n",
       " 'compiler_compat',\n",
       " 'share',\n",
       " 'pkgs',\n",
       " 'lib',\n",
       " 'LICENSE.txt',\n",
       " 'Untitled.ipynb',\n",
       " 'Untitled1.ipynb',\n",
       " 'conda-meta',\n",
       " 'doc',\n",
       " 'shell',\n",
       " 'x86_64-conda_cos6-linux-gnu',\n",
       " '9-07-2019.ipynb',\n",
       " 'Untitled6.ipynb',\n",
       " 'envs',\n",
       " 'man',\n",
       " 'libexec',\n",
       " 'sbin',\n",
       " 'file2.txt',\n",
       " 'ssl',\n",
       " 'mkspecs',\n",
       " 'Untitled3.ipynb',\n",
       " 'etc',\n",
       " 'qml',\n",
       " '6-07-2019b.ipynb',\n",
       " '.ipynb_checkpoints',\n",
       " 'var',\n",
       " 'file1.txt',\n",
       " '11-07-2019.ipynb',\n",
       " 'assignment.ipynb']"
      ]
     },
     "execution_count": 74,
     "metadata": {},
     "output_type": "execute_result"
    }
   ],
   "source": [
    "import os\n",
    "os.listdir()"
   ]
  },
  {
   "cell_type": "code",
   "execution_count": null,
   "metadata": {},
   "outputs": [],
   "source": [
    "import os\n",
    "os.listdir()"
   ]
  },
  {
   "cell_type": "code",
   "execution_count": 3,
   "metadata": {},
   "outputs": [
    {
     "name": "stdout",
     "output_type": "stream",
     "text": [
      "mkdir: cannot create directory ‘Git’: File exists\r\n"
     ]
    }
   ],
   "source": [
    "mkdir Git\n"
   ]
  },
  {
   "cell_type": "code",
   "execution_count": 9,
   "metadata": {},
   "outputs": [
    {
     "name": "stdout",
     "output_type": "stream",
     "text": [
      "[Errno 2] No such file or directory: 'Git'\n",
      "/home/student/anaconda3/Git\n"
     ]
    }
   ],
   "source": [
    "cd Git"
   ]
  },
  {
   "cell_type": "code",
   "execution_count": 11,
   "metadata": {},
   "outputs": [
    {
     "data": {
      "text/plain": [
       "'/home/student/anaconda3/Git'"
      ]
     },
     "execution_count": 11,
     "metadata": {},
     "output_type": "execute_result"
    }
   ],
   "source": [
    "pwd"
   ]
  },
  {
   "cell_type": "markdown",
   "metadata": {},
   "source": [
    "# Listing subdirectories"
   ]
  },
  {
   "cell_type": "code",
   "execution_count": 12,
   "metadata": {},
   "outputs": [
    {
     "name": "stdout",
     "output_type": "stream",
     "text": [
      "/home/student/anaconda3\n"
     ]
    }
   ],
   "source": [
    "cd .."
   ]
  },
  {
   "cell_type": "code",
   "execution_count": 13,
   "metadata": {},
   "outputs": [],
   "source": [
    "dirpath='Git'\n",
    "for i in os.listdir(dirpath):\n",
    "    if os.path.isdir(os.path,join(dirpath,i)):\n",
    "        print(i)"
   ]
  },
  {
   "cell_type": "code",
   "execution_count": 14,
   "metadata": {},
   "outputs": [],
   "source": [
    "os.mkdir(\"NIKHIL\")"
   ]
  },
  {
   "cell_type": "code",
   "execution_count": 15,
   "metadata": {},
   "outputs": [],
   "source": [
    "import pathlib\n",
    "p=pathlib.Path('Testfolder')\n",
    "p.mkdir()"
   ]
  },
  {
   "cell_type": "code",
   "execution_count": 16,
   "metadata": {},
   "outputs": [
    {
     "name": "stdout",
     "output_type": "stream",
     "text": [
      "11-07-2019.ipynb   \u001b[0m\u001b[01;34menvs\u001b[0m/        \u001b[01;34mNIKHIL\u001b[0m/       \u001b[01;34mtranslations\u001b[0m/\r\n",
      "6-07-2019 a.ipynb  \u001b[01;34metc\u001b[0m/         \u001b[01;34mphrasebooks\u001b[0m/  Untitled1.ipynb\r\n",
      "6-07-2019b.ipynb   file1.txt    \u001b[01;34mpkgs\u001b[0m/         Untitled2.ipynb\r\n",
      "6-07-2019.ipynb    file2.txt    \u001b[01;34mplugins\u001b[0m/      Untitled3.ipynb\r\n",
      "9-07-2019.ipynb    \u001b[01;34mGit\u001b[0m/         \u001b[01;34mqml\u001b[0m/          Untitled4.ipynb\r\n",
      "assignment.ipynb   \u001b[01;34minclude\u001b[0m/     \u001b[01;34mresources\u001b[0m/    Untitled5.ipynb\r\n",
      "\u001b[01;34mbin\u001b[0m/               \u001b[01;34mlib\u001b[0m/         \u001b[01;34msbin\u001b[0m/         Untitled6.ipynb\r\n",
      "\u001b[01;34mcompiler_compat\u001b[0m/   \u001b[01;34mlibexec\u001b[0m/     \u001b[01;34mshare\u001b[0m/        Untitled7.ipynb\r\n",
      "\u001b[01;34mcondabin\u001b[0m/          LICENSE.txt  \u001b[01;34mshell\u001b[0m/        Untitled.ipynb\r\n",
      "\u001b[01;34mconda-meta\u001b[0m/        \u001b[01;34mman\u001b[0m/         \u001b[01;34mssl\u001b[0m/          \u001b[01;34mvar\u001b[0m/\r\n",
      "\u001b[01;34mdoc\u001b[0m/               \u001b[01;34mmkspecs\u001b[0m/     \u001b[01;34mTestfolder\u001b[0m/   \u001b[01;34mx86_64-conda_cos6-linux-gnu\u001b[0m/\r\n"
     ]
    }
   ],
   "source": [
    "ls"
   ]
  },
  {
   "cell_type": "code",
   "execution_count": 18,
   "metadata": {},
   "outputs": [
    {
     "data": {
      "text/plain": [
       "'/home/student/anaconda3'"
      ]
     },
     "execution_count": 18,
     "metadata": {},
     "output_type": "execute_result"
    }
   ],
   "source": [
    "pwd"
   ]
  },
  {
   "cell_type": "code",
   "execution_count": 19,
   "metadata": {},
   "outputs": [
    {
     "name": "stdout",
     "output_type": "stream",
     "text": [
      "/home/student/anaconda3/NIKHIL\n"
     ]
    }
   ],
   "source": [
    "cd NIKHIL"
   ]
  },
  {
   "cell_type": "markdown",
   "metadata": {},
   "source": [
    "# Creating multiple Directories"
   ]
  },
  {
   "cell_type": "code",
   "execution_count": 20,
   "metadata": {},
   "outputs": [],
   "source": [
    "import os\n",
    "os.makedirs('2019/july/11')"
   ]
  },
  {
   "cell_type": "code",
   "execution_count": 21,
   "metadata": {},
   "outputs": [
    {
     "name": "stdout",
     "output_type": "stream",
     "text": [
      "\u001b[0m\u001b[01;34m2019\u001b[0m/\r\n"
     ]
    }
   ],
   "source": [
    "ls"
   ]
  },
  {
   "cell_type": "code",
   "execution_count": 22,
   "metadata": {},
   "outputs": [
    {
     "name": "stdout",
     "output_type": "stream",
     "text": [
      "/home/student/anaconda3/NIKHIL/2019\n"
     ]
    }
   ],
   "source": [
    "cd 2019\n"
   ]
  },
  {
   "cell_type": "code",
   "execution_count": 23,
   "metadata": {},
   "outputs": [
    {
     "name": "stdout",
     "output_type": "stream",
     "text": [
      "/home/student/anaconda3/NIKHIL\n"
     ]
    }
   ],
   "source": [
    "cd .."
   ]
  },
  {
   "cell_type": "code",
   "execution_count": 30,
   "metadata": {},
   "outputs": [
    {
     "ename": "FileExistsError",
     "evalue": "[Errno 17] File exists: '2019/july/11'",
     "output_type": "error",
     "traceback": [
      "\u001b[0;31m---------------------------------------------------------------------------\u001b[0m",
      "\u001b[0;31mFileExistsError\u001b[0m                           Traceback (most recent call last)",
      "\u001b[0;32m<ipython-input-30-35c011a40b7e>\u001b[0m in \u001b[0;36m<module>\u001b[0;34m\u001b[0m\n\u001b[1;32m      1\u001b[0m \u001b[0;32mimport\u001b[0m \u001b[0mos\u001b[0m\u001b[0;34m\u001b[0m\u001b[0;34m\u001b[0m\u001b[0m\n\u001b[0;32m----> 2\u001b[0;31m \u001b[0mos\u001b[0m\u001b[0;34m.\u001b[0m\u001b[0mmakedirs\u001b[0m\u001b[0;34m(\u001b[0m\u001b[0;34m\"2019/july/11\"\u001b[0m\u001b[0;34m)\u001b[0m\u001b[0;34m\u001b[0m\u001b[0;34m\u001b[0m\u001b[0m\n\u001b[0m",
      "\u001b[0;32m~/anaconda3/lib/python3.7/os.py\u001b[0m in \u001b[0;36mmakedirs\u001b[0;34m(name, mode, exist_ok)\u001b[0m\n\u001b[1;32m    219\u001b[0m             \u001b[0;32mreturn\u001b[0m\u001b[0;34m\u001b[0m\u001b[0;34m\u001b[0m\u001b[0m\n\u001b[1;32m    220\u001b[0m     \u001b[0;32mtry\u001b[0m\u001b[0;34m:\u001b[0m\u001b[0;34m\u001b[0m\u001b[0;34m\u001b[0m\u001b[0m\n\u001b[0;32m--> 221\u001b[0;31m         \u001b[0mmkdir\u001b[0m\u001b[0;34m(\u001b[0m\u001b[0mname\u001b[0m\u001b[0;34m,\u001b[0m \u001b[0mmode\u001b[0m\u001b[0;34m)\u001b[0m\u001b[0;34m\u001b[0m\u001b[0;34m\u001b[0m\u001b[0m\n\u001b[0m\u001b[1;32m    222\u001b[0m     \u001b[0;32mexcept\u001b[0m \u001b[0mOSError\u001b[0m\u001b[0;34m:\u001b[0m\u001b[0;34m\u001b[0m\u001b[0;34m\u001b[0m\u001b[0m\n\u001b[1;32m    223\u001b[0m         \u001b[0;31m# Cannot rely on checking for EEXIST, since the operating system\u001b[0m\u001b[0;34m\u001b[0m\u001b[0;34m\u001b[0m\u001b[0;34m\u001b[0m\u001b[0m\n",
      "\u001b[0;31mFileExistsError\u001b[0m: [Errno 17] File exists: '2019/july/11'"
     ]
    }
   ],
   "source": [
    "import os\n",
    "os.makedirs(\"2019/july/11\")"
   ]
  },
  {
   "cell_type": "code",
   "execution_count": 27,
   "metadata": {},
   "outputs": [
    {
     "name": "stdout",
     "output_type": "stream",
     "text": [
      "\u001b[0m\u001b[01;34m2019\u001b[0m/\r\n"
     ]
    }
   ],
   "source": [
    "ls"
   ]
  },
  {
   "cell_type": "code",
   "execution_count": 28,
   "metadata": {},
   "outputs": [
    {
     "data": {
      "text/plain": [
       "'/home/student/anaconda3/NIKHIL'"
      ]
     },
     "execution_count": 28,
     "metadata": {},
     "output_type": "execute_result"
    }
   ],
   "source": [
    "pwd"
   ]
  },
  {
   "cell_type": "code",
   "execution_count": 29,
   "metadata": {},
   "outputs": [
    {
     "name": "stdout",
     "output_type": "stream",
     "text": [
      "\u001b[0m\u001b[01;34m2019\u001b[0m/\r\n"
     ]
    }
   ],
   "source": [
    "ls"
   ]
  },
  {
   "cell_type": "code",
   "execution_count": 31,
   "metadata": {},
   "outputs": [
    {
     "name": "stdout",
     "output_type": "stream",
     "text": [
      "/home/student/anaconda3\n"
     ]
    }
   ],
   "source": [
    "cd ..\n"
   ]
  },
  {
   "cell_type": "code",
   "execution_count": 54,
   "metadata": {},
   "outputs": [
    {
     "data": {
      "text/plain": [
       "'/home/student'"
      ]
     },
     "execution_count": 54,
     "metadata": {},
     "output_type": "execute_result"
    }
   ],
   "source": [
    "pwd"
   ]
  },
  {
   "cell_type": "code",
   "execution_count": 55,
   "metadata": {},
   "outputs": [
    {
     "name": "stdout",
     "output_type": "stream",
     "text": [
      "/home/student/anaconda3\n"
     ]
    }
   ],
   "source": [
    "cd anaconda3/"
   ]
  },
  {
   "cell_type": "code",
   "execution_count": 56,
   "metadata": {},
   "outputs": [
    {
     "ename": "FileExistsError",
     "evalue": "[Errno 17] File exists: '2019/july/11'",
     "output_type": "error",
     "traceback": [
      "\u001b[0;31m---------------------------------------------------------------------------\u001b[0m",
      "\u001b[0;31mFileExistsError\u001b[0m                           Traceback (most recent call last)",
      "\u001b[0;32m<ipython-input-56-35c011a40b7e>\u001b[0m in \u001b[0;36m<module>\u001b[0;34m\u001b[0m\n\u001b[1;32m      1\u001b[0m \u001b[0;32mimport\u001b[0m \u001b[0mos\u001b[0m\u001b[0;34m\u001b[0m\u001b[0;34m\u001b[0m\u001b[0m\n\u001b[0;32m----> 2\u001b[0;31m \u001b[0mos\u001b[0m\u001b[0;34m.\u001b[0m\u001b[0mmakedirs\u001b[0m\u001b[0;34m(\u001b[0m\u001b[0;34m\"2019/july/11\"\u001b[0m\u001b[0;34m)\u001b[0m\u001b[0;34m\u001b[0m\u001b[0;34m\u001b[0m\u001b[0m\n\u001b[0m",
      "\u001b[0;32m~/anaconda3/lib/python3.7/os.py\u001b[0m in \u001b[0;36mmakedirs\u001b[0;34m(name, mode, exist_ok)\u001b[0m\n\u001b[1;32m    219\u001b[0m             \u001b[0;32mreturn\u001b[0m\u001b[0;34m\u001b[0m\u001b[0;34m\u001b[0m\u001b[0m\n\u001b[1;32m    220\u001b[0m     \u001b[0;32mtry\u001b[0m\u001b[0;34m:\u001b[0m\u001b[0;34m\u001b[0m\u001b[0;34m\u001b[0m\u001b[0m\n\u001b[0;32m--> 221\u001b[0;31m         \u001b[0mmkdir\u001b[0m\u001b[0;34m(\u001b[0m\u001b[0mname\u001b[0m\u001b[0;34m,\u001b[0m \u001b[0mmode\u001b[0m\u001b[0;34m)\u001b[0m\u001b[0;34m\u001b[0m\u001b[0;34m\u001b[0m\u001b[0m\n\u001b[0m\u001b[1;32m    222\u001b[0m     \u001b[0;32mexcept\u001b[0m \u001b[0mOSError\u001b[0m\u001b[0;34m:\u001b[0m\u001b[0;34m\u001b[0m\u001b[0;34m\u001b[0m\u001b[0m\n\u001b[1;32m    223\u001b[0m         \u001b[0;31m# Cannot rely on checking for EEXIST, since the operating system\u001b[0m\u001b[0;34m\u001b[0m\u001b[0;34m\u001b[0m\u001b[0;34m\u001b[0m\u001b[0m\n",
      "\u001b[0;31mFileExistsError\u001b[0m: [Errno 17] File exists: '2019/july/11'"
     ]
    }
   ],
   "source": [
    "import os\n",
    "os.makedirs(\"2019/july/11\")"
   ]
  },
  {
   "cell_type": "code",
   "execution_count": 60,
   "metadata": {},
   "outputs": [
    {
     "data": {
      "text/plain": [
       "'/home/student/anaconda3'"
      ]
     },
     "execution_count": 60,
     "metadata": {},
     "output_type": "execute_result"
    }
   ],
   "source": [
    "pwd"
   ]
  },
  {
   "cell_type": "code",
   "execution_count": 57,
   "metadata": {},
   "outputs": [
    {
     "name": "stdout",
     "output_type": "stream",
     "text": [
      "11-07-2019.ipynb   \u001b[0m\u001b[01;34mdoc\u001b[0m/         \u001b[01;34mNIKHIL\u001b[0m/       \u001b[01;34mtranslations\u001b[0m/\r\n",
      "\u001b[01;34m2019\u001b[0m/              \u001b[01;34menvs\u001b[0m/        \u001b[01;34mphrasebooks\u001b[0m/  Untitled1.ipynb\r\n",
      "6-07-2019 a.ipynb  \u001b[01;34metc\u001b[0m/         \u001b[01;34mpkgs\u001b[0m/         Untitled2.ipynb\r\n",
      "6-07-2019b.ipynb   file2.txt    \u001b[01;34mplugins\u001b[0m/      Untitled3.ipynb\r\n",
      "6-07-2019.ipynb    \u001b[01;34mGit\u001b[0m/         \u001b[01;34mqml\u001b[0m/          Untitled4.ipynb\r\n",
      "9-07-2019.ipynb    \u001b[01;34minclude\u001b[0m/     \u001b[01;34mresources\u001b[0m/    Untitled5.ipynb\r\n",
      "assignment.ipynb   \u001b[01;34mlib\u001b[0m/         \u001b[01;34msbin\u001b[0m/         Untitled6.ipynb\r\n",
      "\u001b[01;34mbin\u001b[0m/               \u001b[01;34mlibexec\u001b[0m/     \u001b[01;34mshare\u001b[0m/        Untitled7.ipynb\r\n",
      "\u001b[01;34mcompiler_compat\u001b[0m/   LICENSE.txt  \u001b[01;34mshell\u001b[0m/        Untitled.ipynb\r\n",
      "\u001b[01;34mcondabin\u001b[0m/          \u001b[01;34mman\u001b[0m/         \u001b[01;34mssl\u001b[0m/          \u001b[01;34mvar\u001b[0m/\r\n",
      "\u001b[01;34mconda-meta\u001b[0m/        \u001b[01;34mmkspecs\u001b[0m/     \u001b[01;34mTestfolder\u001b[0m/   \u001b[01;34mx86_64-conda_cos6-linux-gnu\u001b[0m/\r\n"
     ]
    }
   ],
   "source": [
    "ls"
   ]
  },
  {
   "cell_type": "code",
   "execution_count": 65,
   "metadata": {
    "scrolled": true
   },
   "outputs": [
    {
     "name": "stdout",
     "output_type": "stream",
     "text": [
      "Untitled7.ipynb\n",
      "6-07-2019.ipynb\n",
      "9-07-2019.ipynb\n",
      "6-07-2019b.ipynb\n"
     ]
    }
   ],
   "source": [
    "import os\n",
    "dirPath='Git/'\n",
    "for f_name in os.listdir(dirPath):\n",
    "    if f_name.endswith('.ipynb'):\n",
    "        print(f_name)"
   ]
  },
  {
   "cell_type": "code",
   "execution_count": 39,
   "metadata": {},
   "outputs": [],
   "source": [
    "import os\n",
    "data_file='file1.txt' #Give the entire path \n",
    "os.remove(data_file)"
   ]
  },
  {
   "cell_type": "code",
   "execution_count": 40,
   "metadata": {},
   "outputs": [
    {
     "name": "stdout",
     "output_type": "stream",
     "text": [
      "11-07-2019.ipynb   \u001b[0m\u001b[01;34mdoc\u001b[0m/         \u001b[01;34mNIKHIL\u001b[0m/       \u001b[01;34mtranslations\u001b[0m/\r\n",
      "\u001b[01;34m2019\u001b[0m/              \u001b[01;34menvs\u001b[0m/        \u001b[01;34mphrasebooks\u001b[0m/  Untitled1.ipynb\r\n",
      "6-07-2019 a.ipynb  \u001b[01;34metc\u001b[0m/         \u001b[01;34mpkgs\u001b[0m/         Untitled2.ipynb\r\n",
      "6-07-2019b.ipynb   file2.txt    \u001b[01;34mplugins\u001b[0m/      Untitled3.ipynb\r\n",
      "6-07-2019.ipynb    \u001b[01;34mGit\u001b[0m/         \u001b[01;34mqml\u001b[0m/          Untitled4.ipynb\r\n",
      "9-07-2019.ipynb    \u001b[01;34minclude\u001b[0m/     \u001b[01;34mresources\u001b[0m/    Untitled5.ipynb\r\n",
      "assignment.ipynb   \u001b[01;34mlib\u001b[0m/         \u001b[01;34msbin\u001b[0m/         Untitled6.ipynb\r\n",
      "\u001b[01;34mbin\u001b[0m/               \u001b[01;34mlibexec\u001b[0m/     \u001b[01;34mshare\u001b[0m/        Untitled7.ipynb\r\n",
      "\u001b[01;34mcompiler_compat\u001b[0m/   LICENSE.txt  \u001b[01;34mshell\u001b[0m/        Untitled.ipynb\r\n",
      "\u001b[01;34mcondabin\u001b[0m/          \u001b[01;34mman\u001b[0m/         \u001b[01;34mssl\u001b[0m/          \u001b[01;34mvar\u001b[0m/\r\n",
      "\u001b[01;34mconda-meta\u001b[0m/        \u001b[01;34mmkspecs\u001b[0m/     \u001b[01;34mTestfolder\u001b[0m/   \u001b[01;34mx86_64-conda_cos6-linux-gnu\u001b[0m/\r\n"
     ]
    }
   ],
   "source": [
    "ls"
   ]
  },
  {
   "cell_type": "code",
   "execution_count": null,
   "metadata": {},
   "outputs": [],
   "source": []
  }
 ],
 "metadata": {
  "kernelspec": {
   "display_name": "Python 3",
   "language": "python",
   "name": "python3"
  },
  "language_info": {
   "codemirror_mode": {
    "name": "ipython",
    "version": 3
   },
   "file_extension": ".py",
   "mimetype": "text/x-python",
   "name": "python",
   "nbconvert_exporter": "python",
   "pygments_lexer": "ipython3",
   "version": "3.7.3"
  }
 },
 "nbformat": 4,
 "nbformat_minor": 2
}
