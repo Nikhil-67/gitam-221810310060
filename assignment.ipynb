{
 "cells": [
  {
   "cell_type": "code",
   "execution_count": 1,
   "metadata": {},
   "outputs": [
    {
     "name": "stdout",
     "output_type": "stream",
     "text": [
      "enter the number12\n",
      "89 55 34 21 13 8 5 3 2 1 1 0 "
     ]
    }
   ],
   "source": [
    "def reverseFibonacci(n):\n",
    "    a = [0] * n  \n",
    "# assigning first and second elements \n",
    "    a[0] = 0 \n",
    "    a[1] = 1 \n",
    "    for i in range(2, n):   \n",
    "# storing sum in the previous location \n",
    "        a[i] = a[i - 2] + a[i - 1]  \n",
    "    for i in range(n - 1, -1 , -1):   \n",
    "# printing array in reverse order \n",
    "        print(a[i],end=\" \") \n",
    "n = int(input(\"enter the number\"))\n",
    "reverseFibonacci(n)"
   ]
  },
  {
   "cell_type": "code",
   "execution_count": 2,
   "metadata": {},
   "outputs": [
    {
     "name": "stdout",
     "output_type": "stream",
     "text": [
      "Gtam Unversty\n"
     ]
    }
   ],
   "source": [
    "# function for removing the  \n",
    "# occurence of character\n",
    "def removeChar(s, c) :\n",
    "  \n",
    "    # find total no. of  \n",
    "    # occurence of charcter\n",
    "    counts = s.count(c)\n",
    " \n",
    "    # convert into list  \n",
    "    # of characters\n",
    "    s = list(s)\n",
    " \n",
    "    # keeep looping untill  \n",
    "    # counts become 0\n",
    "    while counts :\n",
    "      \n",
    "        # remove character\n",
    "        # from the list\n",
    "        s.remove(c)\n",
    " \n",
    "        # decremented by one\n",
    "        counts -= 1\n",
    " \n",
    "    # join all remaining characters\n",
    "    # of the list with empty string  \n",
    "    s = '' . join(s)\n",
    "  \n",
    "    print(s)\n",
    " \n",
    "# Driver code\n",
    "if __name__ == '__main__' :\n",
    "  \n",
    "    s = \"Gitam University\"\n",
    "    removeChar(s,'i')"
   ]
  },
  {
   "cell_type": "code",
   "execution_count": 3,
   "metadata": {},
   "outputs": [
    {
     "name": "stdout",
     "output_type": "stream",
     "text": [
      "|****\n",
      "|*\n",
      "|***\n",
      "|**\n",
      "|*****\n"
     ]
    }
   ],
   "source": [
    "def pattern(n):\n",
    " \n",
    "    # traverse through the elements\n",
    "    # in n assuming it as a string\n",
    "    for i in n:\n",
    " \n",
    "        # print | for every line\n",
    "        print(\"|\", end = \"\")\n",
    " \n",
    "        # print i number of * s in  \n",
    "        # each line\n",
    "        print(\"*\" * int(i))\n",
    " \n",
    "# get the input as string    \n",
    "n = \"41325\"\n",
    "pattern(n)\n"
   ]
  },
  {
   "cell_type": "code",
   "execution_count": null,
   "metadata": {},
   "outputs": [],
   "source": []
  }
 ],
 "metadata": {
  "kernelspec": {
   "display_name": "Python 3",
   "language": "python",
   "name": "python3"
  },
  "language_info": {
   "codemirror_mode": {
    "name": "ipython",
    "version": 3
   },
   "file_extension": ".py",
   "mimetype": "text/x-python",
   "name": "python",
   "nbconvert_exporter": "python",
   "pygments_lexer": "ipython3",
   "version": "3.7.3"
  }
 },
 "nbformat": 4,
 "nbformat_minor": 2
}
