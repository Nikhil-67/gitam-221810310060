{
 "cells": [
  {
   "cell_type": "markdown",
   "metadata": {},
   "source": [
    "## Data structures\n",
    "\n",
    "- to store,search and sort the data\n"
   ]
  },
  {
   "cell_type": "markdown",
   "metadata": {},
   "source": [
    "# Python data stuctures\n",
    "\n",
    "### Lists\n"
   ]
  },
  {
   "cell_type": "code",
   "execution_count": 7,
   "metadata": {
    "scrolled": false
   },
   "outputs": [
    {
     "name": "stdout",
     "output_type": "stream",
     "text": [
      "[1, 5, 34, 67, 123]\n",
      "1\n",
      "123\n",
      "67\n",
      "[5, 34, 67, 123]\n",
      "[5, 34, 67]\n"
     ]
    }
   ],
   "source": [
    "lst￼\n",
    "l=[1,5,34,67,123]\n",
    "print(lst) # access the total list\n",
    "print(lst[0]) #access the first item list\n",
    "print(lst[-1]) # access the last item list\n",
    "print(lst[-2]) #last second\n",
    "print(lst[1:]) # access from one \n",
    "print(lst[1:4]) # access from one to fourth"
   ]
  },
  {
   "cell_type": "code",
   "execution_count": 23,
   "metadata": {},
   "outputs": [
    {
     "name": "stdout",
     "output_type": "stream",
     "text": [
      "['gitam', 'python', 2000, 2019]\n",
      "['gitam', 'python', 23000, 2019]\n"
     ]
    }
   ],
   "source": [
    "li=[\"gitam\",\"python\",2000,2019]\n",
    "print(li)\n",
    "li[2]=23000\n",
    "print(li)"
   ]
  },
  {
   "cell_type": "code",
   "execution_count": 25,
   "metadata": {},
   "outputs": [
    {
     "name": "stdout",
     "output_type": "stream",
     "text": [
      "['gitam', 'python', 23000, 2019]\n",
      "['gitam', 'python', 2019]\n"
     ]
    }
   ],
   "source": [
    "# delete a specific item in the list\n",
    "print(li)\n",
    "del li[2]\n",
    "print(li)"
   ]
  },
  {
   "cell_type": "code",
   "execution_count": 34,
   "metadata": {},
   "outputs": [
    {
     "name": "stdout",
     "output_type": "stream",
     "text": [
      "5\n",
      "[1, 5, 9, 45, 85, 1, 5, 9, 45, 85]\n",
      "5\n",
      "True\n",
      "False\n",
      "1 5 9 45 85 "
     ]
    }
   ],
   "source": [
    "# Basic list operations\n",
    "lis = [1,5,9,45,85]\n",
    "print(len(lis)) # length of the list\n",
    "print(lis*2) # repetation\n",
    "print(len(lis))\n",
    "print(9 in lis)\n",
    "print(15 in lis)\n",
    "#access the list item using iteration\n",
    "for x in range(len(lis)):\n",
    "    print(lis[x],end=\" \")"
   ]
  },
  {
   "cell_type": "code",
   "execution_count": 45,
   "metadata": {},
   "outputs": [
    {
     "name": "stdout",
     "output_type": "stream",
     "text": [
      "1\n",
      "18\n",
      "36\n",
      "7\n",
      "13.5\n"
     ]
    }
   ],
   "source": [
    "# Function of the list\n",
    "lst1=[1,9,6,18,2]\n",
    "print(min(lst1)) #Min item of the list\n",
    "print(max(lst1))# max item of the list\n",
    "print(sum(lst1)) # sum of the all terms in the list\n",
    "print(sum(lst1)//len(lst1))#Average of the list elements\n",
    "print(sum(lst1[1::2])/len(lst1[1::2]))#average of all elements"
   ]
  },
  {
   "cell_type": "code",
   "execution_count": 57,
   "metadata": {},
   "outputs": [
    {
     "data": {
      "text/plain": [
       "[45, 23, 56, 56, 56, 45, 45, 45, 24, 24, 24, 24, 23, 23, 23, 1]"
      ]
     },
     "execution_count": 57,
     "metadata": {},
     "output_type": "execute_result"
    }
   ],
   "source": [
    "lst1\n",
    "lst1.append(24) # adding a new element  at the end of the list\n",
    "lst1\n",
    "lst1.insert(2,56)# addinig element at particular index\n",
    "lst1\n",
    "lst1.count(18) # Return the value how many times the object repeated\n",
    "lst1.index(56)\n",
    "lst1.sort() # Sorts the list in ascending order\n",
    "lst1\n",
    "lst1.pop() # Removes the last element from the list\n",
    "lst1\n",
    "lst1.pop(1) # Removes the element of particular index\n",
    "lst2=[123,23,45]\n",
    "lst1.extend(lst2) # Merge the list2 into list1\n",
    "lst1.reverse() # reverse the list\n",
    "lst1.remove(123)# remove the list from the list\n",
    "lst1"
   ]
  },
  {
   "cell_type": "code",
   "execution_count": 56,
   "metadata": {},
   "outputs": [
    {
     "name": "stdout",
     "output_type": "stream",
     "text": [
      "[3, 2]\n"
     ]
    }
   ],
   "source": [
    "li=[1,9,8,2,6,3]\n",
    "print(li[-1:2:-2])"
   ]
  },
  {
   "cell_type": "code",
   "execution_count": 65,
   "metadata": {},
   "outputs": [
    {
     "data": {
      "text/plain": [
       "1"
      ]
     },
     "execution_count": 65,
     "metadata": {},
     "output_type": "execute_result"
    }
   ],
   "source": [
    "# Function to find the second large item from the list\n",
    "# Input :[1,19,6,2,8,18,3]\n",
    "# Output : 18\n",
    "def secondlarge(li):\n",
    "    li.sort()\n",
    "    return li[-2]\n",
    "def genericlarge(li,n):\n",
    "    li.sort()\n",
    "    return li[-n]\n",
    "li = [1,19,6,2,8,18,3]\n",
    "genericlarge(li,7)"
   ]
  },
  {
   "cell_type": "code",
   "execution_count": 68,
   "metadata": {},
   "outputs": [
    {
     "data": {
      "text/plain": [
       "19"
      ]
     },
     "execution_count": 68,
     "metadata": {},
     "output_type": "execute_result"
    }
   ],
   "source": [
    "def secondleast(li):\n",
    "    li.sort()\n",
    "    return li[-2]\n",
    "def genericleast(li,n):\n",
    "    li.sort()\n",
    "    return li[n-1]\n",
    "li = [1,19,6,2,8,18,3]\n",
    "genericleast(li,7)"
   ]
  },
  {
   "cell_type": "code",
   "execution_count": 72,
   "metadata": {},
   "outputs": [
    {
     "name": "stdout",
     "output_type": "stream",
     "text": [
      "1 4 8 "
     ]
    }
   ],
   "source": [
    "#Function\n",
    "# Input :[1,5,9,6,5,15,1,2,5],key=5 #Duplicate\n",
    "# Output : 1 4 8\n",
    "def linearsearch(LI,tarItem):\n",
    "    for x in range(len(li)):\n",
    "        if li[x]==tarItem:\n",
    "            print(x,end=\" \")\n",
    "    return\n",
    "li=[1,5,9,6,5,15,1,2,5]\n",
    "linearsearch(li,5) # 1 4 8"
   ]
  },
  {
   "cell_type": "code",
   "execution_count": 77,
   "metadata": {},
   "outputs": [],
   "source": [
    "# Function\n",
    "# Input:list\n",
    "# Output :seq of characters\n",
    "# Test case\n",
    "# [1,5,9,6,5,15,1,2,5],tar=5 -- !! !!!!! !!!!!!!!!\n",
    "def linearsearch3(li,tarItem):\n",
    "    #Implement the logic\n",
    "    return\n",
    "li=[1,5,9,6,5,15,1,2,5]\n",
    "linearsearch3(li,5)"
   ]
  },
  {
   "cell_type": "code",
   "execution_count": 79,
   "metadata": {},
   "outputs": [
    {
     "data": {
      "text/plain": [
       "15"
      ]
     },
     "execution_count": 79,
     "metadata": {},
     "output_type": "execute_result"
    }
   ],
   "source": [
    "def linearsearch4(li):\n",
    "    sum=0\n",
    "    for x in range(len(li)):\n",
    "        if li[x]%3==0 and li[x]%5==0:\n",
    "            sum+=li[x] #Sum=sum+li[x]\n",
    "    return sum\n",
    "li=[12,2,56,9,18,15,36]\n",
    "linearsearch4(li)"
   ]
  },
  {
   "cell_type": "code",
   "execution_count": 90,
   "metadata": {},
   "outputs": [
    {
     "name": "stdout",
     "output_type": "stream",
     "text": [
      "1 3 8 15 5 "
     ]
    }
   ],
   "source": [
    "# Function\n",
    "# Input :List\n",
    "# Output : Formatted output\n",
    "# Test case :\n",
    "# [1,2,3,4,5] -- [1,3,8,15,5]\n",
    "# [6,5,2,8,2] -- [6,12,40,4,2]\n",
    "def linearsearch5(li):\n",
    "    for x in range(len(li)):\n",
    "        if x==0 or x==len(li)-1:\n",
    "            print(li[x],end=\" \")\n",
    "        else:\n",
    "            print(li[x-1]*li[x+1],end=\" \")\n",
    "    return\n",
    "li=[1,2,3,4,5]\n",
    "linearsearch5(li)"
   ]
  },
  {
   "cell_type": "code",
   "execution_count": 92,
   "metadata": {},
   "outputs": [
    {
     "name": "stdout",
     "output_type": "stream",
     "text": [
      "1 9 19 22 "
     ]
    }
   ],
   "source": [
    "# Function\n",
    "# Input :List\n",
    "# Output : Formatted output\n",
    "#Test case :\n",
    "# [1,6,9,4,16,19,22] -- 1 9 19 22 \n",
    "def linearsearch6(li):\n",
    "    # Implement the logic\n",
    "    for x in range(len(li)):\n",
    "        if x ==0 or x == len(li) - 1:\n",
    "            print(li[x],end=\" \")\n",
    "        elif li[x-1] % 2 == 0 and li[x+1] % 2 ==0:\n",
    "            print(li[x],end=\" \")\n",
    "    return\n",
    "li = [1,6,9,4,16,19,22]\n",
    "linearsearch6(li) # 1 9 19 22"
   ]
  },
  {
   "cell_type": "markdown",
   "metadata": {},
   "source": [
    "# Number to list\n",
    "- Input as number\n",
    "- Expected output will be list"
   ]
  },
  {
   "cell_type": "code",
   "execution_count": 94,
   "metadata": {},
   "outputs": [
    {
     "data": {
      "text/plain": [
       "[1, 4, 5, 6, 9]"
      ]
     },
     "execution_count": 94,
     "metadata": {},
     "output_type": "execute_result"
    }
   ],
   "source": [
    "# Function for conversion - \n",
    "# Input- number\n",
    "# Output - list\n",
    "# 14569 -- [1,4,5,6,9]\n",
    "# 1990 -- [1,9,9,0]\n",
    "def numberlistconversion(n):\n",
    "    li=[]\n",
    "    while n!=0:\n",
    "        r=n%10\n",
    "        li.append(r)\n",
    "        n=n//10\n",
    "    li.reverse()\n",
    "    return li\n",
    "numberlistconversion(14569)"
   ]
  },
  {
   "cell_type": "code",
   "execution_count": 96,
   "metadata": {},
   "outputs": [
    {
     "data": {
      "text/plain": [
       "2"
      ]
     },
     "execution_count": 96,
     "metadata": {},
     "output_type": "execute_result"
    }
   ],
   "source": [
    "# Function to count the occurances of a character in a string\n",
    "# \"Python Programming\" ->2\n",
    "# \"Python Programming\" ->2\n",
    "def countcharoccarances(s,c):\n",
    "    cnt=0\n",
    "    for ch in s:\n",
    "        if ch==c:\n",
    "            cnt +=1\n",
    "    return cnt\n",
    "countcharoccarances(\"Python Programming\",'m')"
   ]
  },
  {
   "cell_type": "markdown",
   "metadata": {},
   "source": [
    "# Sorting algorithms:\n",
    "- all sorting algorithms makes the list into ascending order\n",
    "  -Bubble sort\n",
    "  -"
   ]
  },
  {
   "cell_type": "code",
   "execution_count": 97,
   "metadata": {},
   "outputs": [
    {
     "data": {
      "text/plain": [
       "[1, 3, 6, 18, 19, 25]"
      ]
     },
     "execution_count": 97,
     "metadata": {},
     "output_type": "execute_result"
    }
   ],
   "source": [
    "def bubblesort(li):\n",
    "    for i in range(len(li)-1):\n",
    "        for j in range(len(li)-1):\n",
    "            if li[j]>li[j+1]:\n",
    "                li[j],li[j+1]=li[j+1],li[j]\n",
    "    return li\n",
    "li=[19,1,25,6,18,3]\n",
    "bubblesort(li)"
   ]
  },
  {
   "cell_type": "markdown",
   "metadata": {},
   "source": [
    "## Tuples\n",
    " - t1 paranthesis() li square [ ]\n",
    " - Differenciate btwn lists and tuples\n",
    "    - lists are mutable - can be changed and modified\n",
    "        - Used to access modify,add,delete data\n",
    "    - Tuples are inmutable - cannot be changed\n",
    "        - Used to access data only"
   ]
  },
  {
   "cell_type": "code",
   "execution_count": 38,
   "metadata": {},
   "outputs": [
    {
     "data": {
      "text/plain": [
       "tuple"
      ]
     },
     "execution_count": 38,
     "metadata": {},
     "output_type": "execute_result"
    }
   ],
   "source": [
    "t1=(1,2,3,4,5,6)\n",
    "t1\n",
    "type(t1)"
   ]
  },
  {
   "cell_type": "markdown",
   "metadata": {},
   "source": [
    "# Data structures\n",
    " - Dictionaries"
   ]
  },
  {
   "cell_type": "code",
   "execution_count": 26,
   "metadata": {},
   "outputs": [
    {
     "name": "stdout",
     "output_type": "stream",
     "text": [
      "{'Name': 'gitam', 'EmailId': 'gitam@gmail.com', 'Address': 'Hyderabad'}\n"
     ]
    }
   ],
   "source": [
    "d1={\"Name\":\"gitam\",\"EmailId\":\"gitam@gmail.com\",\"Address\":\"Hyderabad\"}\n",
    "print(d1)"
   ]
  },
  {
   "cell_type": "code",
   "execution_count": 27,
   "metadata": {},
   "outputs": [
    {
     "data": {
      "text/plain": [
       "'gitam'"
      ]
     },
     "execution_count": 27,
     "metadata": {},
     "output_type": "execute_result"
    }
   ],
   "source": [
    "d1[\"Name\"]"
   ]
  },
  {
   "cell_type": "code",
   "execution_count": 28,
   "metadata": {},
   "outputs": [],
   "source": [
    "d1['EmailId']='Gitam-python@gmail.com'  #Update the data "
   ]
  },
  {
   "cell_type": "code",
   "execution_count": 29,
   "metadata": {},
   "outputs": [
    {
     "data": {
      "text/plain": [
       "'Gitam-python@gmail.com'"
      ]
     },
     "execution_count": 29,
     "metadata": {},
     "output_type": "execute_result"
    }
   ],
   "source": [
    "d1['EmailId']"
   ]
  },
  {
   "cell_type": "code",
   "execution_count": 30,
   "metadata": {},
   "outputs": [],
   "source": [
    "del d1['EmailId'] # Delete the specific key value"
   ]
  },
  {
   "cell_type": "code",
   "execution_count": 31,
   "metadata": {},
   "outputs": [
    {
     "data": {
      "text/plain": [
       "{'Name': 'gitam', 'Address': 'Hyderabad'}"
      ]
     },
     "execution_count": 31,
     "metadata": {},
     "output_type": "execute_result"
    }
   ],
   "source": [
    "d1"
   ]
  },
  {
   "cell_type": "code",
   "execution_count": 32,
   "metadata": {},
   "outputs": [
    {
     "data": {
      "text/plain": [
       "dict_keys(['Name', 'Address'])"
      ]
     },
     "execution_count": 32,
     "metadata": {},
     "output_type": "execute_result"
    }
   ],
   "source": [
    "d1.keys() # returns the list of keys"
   ]
  },
  {
   "cell_type": "code",
   "execution_count": 33,
   "metadata": {},
   "outputs": [
    {
     "data": {
      "text/plain": [
       "dict_values(['gitam', 'Hyderabad'])"
      ]
     },
     "execution_count": 33,
     "metadata": {},
     "output_type": "execute_result"
    }
   ],
   "source": [
    "d1.values() # returns the values"
   ]
  },
  {
   "cell_type": "code",
   "execution_count": 35,
   "metadata": {},
   "outputs": [
    {
     "data": {
      "text/plain": [
       "dict_items([('Name', 'gitam'), ('Address', 'Hyderabad')])"
      ]
     },
     "execution_count": 35,
     "metadata": {},
     "output_type": "execute_result"
    }
   ],
   "source": [
    "d1.items() # the list of tuples of keys and valuies"
   ]
  },
  {
   "cell_type": "markdown",
   "metadata": {},
   "source": [
    "# Contact Application\n",
    " - Add contact\n",
    " - Search the contact\n",
    " - List all contacts\n",
    "     - name1:phone1\n",
    "     - name2:phone2\n",
    " - Modify the contact\n",
    " - Remove the contact\n",
    " - Import the contact"
   ]
  },
  {
   "cell_type": "code",
   "execution_count": 42,
   "metadata": {},
   "outputs": [
    {
     "name": "stdout",
     "output_type": "stream",
     "text": [
      "contact details are added\n",
      "contact details are added\n",
      "contact details already exists\n"
     ]
    }
   ],
   "source": [
    "# Add contact\n",
    "contacts= {}  # creating adict object\n",
    "def addcontact(name,phone):\n",
    "    if name not in contacts:\n",
    "        contacts[name]=phone\n",
    "        print(\"contact details are added\")\n",
    "    else:\n",
    "        print(\"contact details already exists\")\n",
    "    return\n",
    "addcontact('nike','9876541230')\n",
    "addcontact('mahesh','0987654321')\n",
    "addcontact('nike','9876541230')"
   ]
  },
  {
   "cell_type": "code",
   "execution_count": 44,
   "metadata": {},
   "outputs": [
    {
     "data": {
      "text/plain": [
       "{'nike': '9876541230', 'mahesh': '0987654321'}"
      ]
     },
     "execution_count": 44,
     "metadata": {},
     "output_type": "execute_result"
    }
   ],
   "source": [
    "contacts"
   ]
  },
  {
   "cell_type": "code",
   "execution_count": 46,
   "metadata": {},
   "outputs": [
    {
     "name": "stdout",
     "output_type": "stream",
     "text": [
      "nike : 9876541230\n",
      "harsha does not exists\n"
     ]
    }
   ],
   "source": [
    "# Search for contact details\n",
    "def searchcontact(name):\n",
    "    if name in contacts:\n",
    "        print(name,\":\",contacts[name])\n",
    "    else:\n",
    "        print(\"%s does not exists\"% name)\n",
    "    return\n",
    "searchcontact('nike')\n",
    "searchcontact('harsha')"
   ]
  },
  {
   "cell_type": "code",
   "execution_count": 52,
   "metadata": {},
   "outputs": [
    {
     "name": "stdout",
     "output_type": "stream",
     "text": [
      "2 Contacts added successfully\n"
     ]
    }
   ],
   "source": [
    "# Import some contacts\n",
    "# Merge contacts with existing contacts\n",
    "def impcontacts(newcontacts):\n",
    "    contacts.update(newcontacts)\n",
    "    print(len(newcontacts.keys()),\"Contacts added successfully\")\n",
    "    return\n",
    "newcontacts={'dinesh':9987456445,'ajay':1475829635}\n",
    "impcontacts(newcontacts)"
   ]
  },
  {
   "cell_type": "code",
   "execution_count": 53,
   "metadata": {},
   "outputs": [
    {
     "data": {
      "text/plain": [
       "{'nike': '9876541230',\n",
       " 'mahesh': '0987654321',\n",
       " 'dinesh': 9987456445,\n",
       " 'ajay': 1475829635}"
      ]
     },
     "execution_count": 53,
     "metadata": {},
     "output_type": "execute_result"
    }
   ],
   "source": [
    "contacts\n"
   ]
  },
  {
   "cell_type": "code",
   "execution_count": 55,
   "metadata": {},
   "outputs": [
    {
     "name": "stdout",
     "output_type": "stream",
     "text": [
      "ajay not exists\n"
     ]
    }
   ],
   "source": [
    "# Delete a contact\n",
    "def delcontact(name):\n",
    "    if name in contacts:\n",
    "        del contacts[name]\n",
    "        print(name,\"deleted successfully\")\n",
    "    else:\n",
    "        print(name,'not exists')\n",
    "    return\n",
    "delcontact('ajay')"
   ]
  },
  {
   "cell_type": "code",
   "execution_count": 56,
   "metadata": {},
   "outputs": [
    {
     "data": {
      "text/plain": [
       "{'nike': '9876541230', 'mahesh': '0987654321', 'dinesh': 9987456445}"
      ]
     },
     "execution_count": 56,
     "metadata": {},
     "output_type": "execute_result"
    }
   ],
   "source": [
    "contacts\n"
   ]
  },
  {
   "cell_type": "code",
   "execution_count": 62,
   "metadata": {},
   "outputs": [
    {
     "name": "stdout",
     "output_type": "stream",
     "text": [
      "enter the number12\n",
      "89 55 34 21 13 8 5 3 2 1 1 0 "
     ]
    }
   ],
   "source": [
    "def reverseFibonacci(n):\n",
    "    a = [0] * n  \n",
    "# assigning first and second elements \n",
    "    a[0] = 0 \n",
    "    a[1] = 1 \n",
    "    for i in range(2, n):   \n",
    "# storing sum in the previous location \n",
    "        a[i] = a[i - 2] + a[i - 1]  \n",
    "    for i in range(n - 1, -1 , -1):   \n",
    "# printing array in reverse order \n",
    "        print(a[i],end=\" \") \n",
    "n = int(input(\"enter the number\"))\n",
    "reverseFibonacci(n)"
   ]
  },
  {
   "cell_type": "code",
   "execution_count": 63,
   "metadata": {},
   "outputs": [
    {
     "name": "stdout",
     "output_type": "stream",
     "text": [
      "Gtam Unversty\n"
     ]
    }
   ],
   "source": [
    "# function for removing the  \n",
    "# occurence of character\n",
    "def removeChar(s, c) :\n",
    "  \n",
    "    # find total no. of  \n",
    "    # occurence of charcter\n",
    "    counts = s.count(c)\n",
    " \n",
    "    # convert into list  \n",
    "    # of characters\n",
    "    s = list(s)\n",
    " \n",
    "    # keeep looping untill  \n",
    "    # counts become 0\n",
    "    while counts :\n",
    "      \n",
    "        # remove character\n",
    "        # from the list\n",
    "        s.remove(c)\n",
    " \n",
    "        # decremented by one\n",
    "        counts -= 1\n",
    " \n",
    "    # join all remaining characters\n",
    "    # of the list with empty string  \n",
    "    s = '' . join(s)\n",
    "  \n",
    "    print(s)\n",
    " \n",
    "# Driver code\n",
    "if __name__ == '__main__' :\n",
    "  \n",
    "    s = \"Gitam University\"\n",
    "    removeChar(s,'i')\n"
   ]
  },
  {
   "cell_type": "code",
   "execution_count": 65,
   "metadata": {},
   "outputs": [
    {
     "name": "stdout",
     "output_type": "stream",
     "text": [
      "|****\n",
      "|*\n",
      "|***\n",
      "|**\n",
      "|*****\n"
     ]
    }
   ],
   "source": [
    "def pattern(n):\n",
    " \n",
    "    # traverse through the elements\n",
    "    # in n assuming it as a string\n",
    "    for i in n:\n",
    " \n",
    "        # print | for every line\n",
    "        print(\"|\", end = \"\")\n",
    " \n",
    "        # print i number of * s in  \n",
    "        # each line\n",
    "        print(\"*\" * int(i))\n",
    " \n",
    "# get the input as string    \n",
    "n = \"41325\"\n",
    "pattern(n)\n"
   ]
  },
  {
   "cell_type": "code",
   "execution_count": null,
   "metadata": {},
   "outputs": [],
   "source": []
  },
  {
   "cell_type": "markdown",
   "metadata": {},
   "source": [
    "##  Packages and Modules \n",
    "**Packages:**\n",
    "  - A collection of modules(Single Python file_py) and subpackages\n",
    "  \n",
    "**Module:**\n",
    "  - A single python file containing set functions\n",
    "  \n",
    "**Packages->Sub packages->Modules->statements**"
   ]
  },
  {
   "cell_type": "code",
   "execution_count": 67,
   "metadata": {},
   "outputs": [
    {
     "data": {
      "text/plain": [
       "123"
      ]
     },
     "execution_count": 67,
     "metadata": {},
     "output_type": "execute_result"
    }
   ],
   "source": [
    "# Import the external packages to python file\n",
    "import math\n",
    "math.floor(123.45)"
   ]
  },
  {
   "cell_type": "code",
   "execution_count": 69,
   "metadata": {},
   "outputs": [
    {
     "data": {
      "text/plain": [
       "120"
      ]
     },
     "execution_count": 69,
     "metadata": {},
     "output_type": "execute_result"
    }
   ],
   "source": [
    "from math import factorial as fact\n",
    "fact(5)"
   ]
  },
  {
   "cell_type": "code",
   "execution_count": 70,
   "metadata": {},
   "outputs": [
    {
     "data": {
      "text/plain": [
       "5"
      ]
     },
     "execution_count": 70,
     "metadata": {},
     "output_type": "execute_result"
    }
   ],
   "source": [
    "from math import gcd as gcd\n",
    "gcd(10,15)"
   ]
  },
  {
   "cell_type": "code",
   "execution_count": 72,
   "metadata": {},
   "outputs": [
    {
     "name": "stdout",
     "output_type": "stream",
     "text": [
      "47 20 64 76 5 92 85 81 89 92 "
     ]
    }
   ],
   "source": [
    "# Function to generate N randon numbers in given range\n",
    "import random\n",
    "def randomnumbers(n,lb,ub):\n",
    "    for i in range(0,n):\n",
    "        print(random.randint(lb,ub),end=\" \")\n",
    "    return\n",
    "randomnumbers(10,0,100)"
   ]
  },
  {
   "cell_type": "code",
   "execution_count": 100,
   "metadata": {},
   "outputs": [
    {
     "data": {
      "text/plain": [
       "'Try again once again!!'"
      ]
     },
     "execution_count": 100,
     "metadata": {},
     "output_type": "execute_result"
    }
   ],
   "source": [
    "# Create a simple game\n",
    "# Generate 20 random numbers 0 to 500\n",
    "# Input : Number\n",
    "# Output : Congrats!!\n",
    "#         Try once again !!!\n",
    "li=[20,0,500]\n",
    "def generatenumbers(n,lb,ub):\n",
    "    for i in range(0,n):\n",
    "        li.append(random.randint(lb,ub))\n",
    "    return li\n",
    "def check(n):\n",
    "    if n in li:\n",
    "        return \"Congrats!!\"\n",
    "    else:\n",
    "        return \"Try again once again!!\"\n",
    "    return\n",
    "check(15)"
   ]
  },
  {
   "cell_type": "code",
   "execution_count": 3,
   "metadata": {},
   "outputs": [
    {
     "ename": "NameError",
     "evalue": "name 'random' is not defined",
     "output_type": "error",
     "traceback": [
      "\u001b[0;31m---------------------------------------------------------------------------\u001b[0m",
      "\u001b[0;31mNameError\u001b[0m                                 Traceback (most recent call last)",
      "\u001b[0;32m<ipython-input-3-6b37cb50114b>\u001b[0m in \u001b[0;36m<module>\u001b[0;34m\u001b[0m\n\u001b[1;32m     10\u001b[0m         \u001b[0;32mreturn\u001b[0m \u001b[0;34m\"Try again once again!!\"\u001b[0m\u001b[0;34m\u001b[0m\u001b[0;34m\u001b[0m\u001b[0m\n\u001b[1;32m     11\u001b[0m     \u001b[0;32mreturn\u001b[0m\u001b[0;34m\u001b[0m\u001b[0;34m\u001b[0m\u001b[0m\n\u001b[0;32m---> 12\u001b[0;31m \u001b[0mgeneratenumbers\u001b[0m\u001b[0;34m(\u001b[0m\u001b[0;36m20\u001b[0m\u001b[0;34m,\u001b[0m\u001b[0;36m0\u001b[0m\u001b[0;34m,\u001b[0m\u001b[0;36m500\u001b[0m\u001b[0;34m)\u001b[0m\u001b[0;34m\u001b[0m\u001b[0;34m\u001b[0m\u001b[0m\n\u001b[0m\u001b[1;32m     13\u001b[0m \u001b[0mcheck\u001b[0m\u001b[0;34m(\u001b[0m\u001b[0;36m15\u001b[0m\u001b[0;34m)\u001b[0m\u001b[0;34m\u001b[0m\u001b[0;34m\u001b[0m\u001b[0m\n",
      "\u001b[0;32m<ipython-input-3-6b37cb50114b>\u001b[0m in \u001b[0;36mgeneratenumbers\u001b[0;34m(n, lb, ub)\u001b[0m\n\u001b[1;32m      2\u001b[0m     \u001b[0mli\u001b[0m\u001b[0;34m=\u001b[0m\u001b[0;34m[\u001b[0m\u001b[0;34m]\u001b[0m\u001b[0;34m\u001b[0m\u001b[0;34m\u001b[0m\u001b[0m\n\u001b[1;32m      3\u001b[0m     \u001b[0;32mfor\u001b[0m \u001b[0mi\u001b[0m \u001b[0;32min\u001b[0m \u001b[0mrange\u001b[0m\u001b[0;34m(\u001b[0m\u001b[0;36m0\u001b[0m\u001b[0;34m,\u001b[0m\u001b[0mn\u001b[0m\u001b[0;34m)\u001b[0m\u001b[0;34m:\u001b[0m\u001b[0;34m\u001b[0m\u001b[0;34m\u001b[0m\u001b[0m\n\u001b[0;32m----> 4\u001b[0;31m         \u001b[0mli\u001b[0m\u001b[0;34m.\u001b[0m\u001b[0mappend\u001b[0m\u001b[0;34m(\u001b[0m\u001b[0mrandom\u001b[0m\u001b[0;34m.\u001b[0m\u001b[0mrandint\u001b[0m\u001b[0;34m(\u001b[0m\u001b[0mlb\u001b[0m\u001b[0;34m,\u001b[0m\u001b[0mub\u001b[0m\u001b[0;34m)\u001b[0m\u001b[0;34m)\u001b[0m\u001b[0;34m\u001b[0m\u001b[0;34m\u001b[0m\u001b[0m\n\u001b[0m\u001b[1;32m      5\u001b[0m     \u001b[0;32mreturn\u001b[0m \u001b[0mli\u001b[0m\u001b[0;34m\u001b[0m\u001b[0;34m\u001b[0m\u001b[0m\n\u001b[1;32m      6\u001b[0m \u001b[0;32mdef\u001b[0m \u001b[0mcheck\u001b[0m\u001b[0;34m(\u001b[0m\u001b[0mn\u001b[0m\u001b[0;34m)\u001b[0m\u001b[0;34m:\u001b[0m\u001b[0;34m\u001b[0m\u001b[0;34m\u001b[0m\u001b[0m\n",
      "\u001b[0;31mNameError\u001b[0m: name 'random' is not defined"
     ]
    }
   ],
   "source": [
    "def generatenumbers(n,lb,ub):\n",
    "    li=[]\n",
    "    for i in range(0,n):\n",
    "        li.append(random.randint(lb,ub))\n",
    "    return li\n",
    "def check(n):\n",
    "    if n in li:\n",
    "        return \"Congrats!!\"\n",
    "    else:\n",
    "        return \"Try again once again!!\"\n",
    "    return\n",
    "generatenumbers(20,0,500)\n",
    "check(15)"
   ]
  },
  {
   "cell_type": "code",
   "execution_count": null,
   "metadata": {},
   "outputs": [],
   "source": []
  }
 ],
 "metadata": {
  "kernelspec": {
   "display_name": "Python 3",
   "language": "python",
   "name": "python3"
  },
  "language_info": {
   "codemirror_mode": {
    "name": "ipython",
    "version": 3
   },
   "file_extension": ".py",
   "mimetype": "text/x-python",
   "name": "python",
   "nbconvert_exporter": "python",
   "pygments_lexer": "ipython3",
   "version": "3.7.3"
  }
 },
 "nbformat": 4,
 "nbformat_minor": 2
}
