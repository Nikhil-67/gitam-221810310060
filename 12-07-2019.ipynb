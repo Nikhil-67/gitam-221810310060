{
 "cells": [
  {
   "cell_type": "markdown",
   "metadata": {},
   "source": [
    "# Regular expression\n",
    "- pattern matching\n",
    "- patterns(re)package\n",
    "- Cap(\"^\")symbol is used to represent the start of an expression\n",
    "- Dollar(\"$\")symbol is used to represent the end of an expression\n",
    "- [0-9]--> any digit matching\n",
    "\n",
    "        -- two digit number (^[0-9]{2}$)\n",
    "  -- Five digit number(^[0-9]{5}$)"
   ]
  },
  {
   "cell_type": "code",
   "execution_count": null,
   "metadata": {},
   "outputs": [],
   "source": [
    "# function to test two digit number match\n",
    "import re\n",
    "def twodigitmatch(n):\n",
    "    pattern='^[0-9]{2}$'\n",
    "    n=str(n)\n",
    "    if re.match(pattern,n):\n",
    "        return True\n",
    "    return False\n",
    "print(twodigitmatch(12))   #True\n",
    "print(twodigitmatch(123))  #False"
   ]
  },
  {
   "cell_type": "markdown",
   "metadata": {},
   "source": [
    "# Regular expression for characters\n",
    "- [a-z]-->any word in lowercase charcters\n",
    "- [A-Z]-->any word in uppercase character\n",
    " - ^[a-z]{5}$-->it accepts 5 lower case characters\n",
    " \n",
    " - ^[a-zA-Z]{8}$-->it accepts 8 chars can be lower and upper\n",
    "\n",
    " - ^[a-zA-Z0-9]{8}$-->accepts 8 chars can be lower ,upper and numbers"
   ]
  },
  {
   "cell_type": "code",
   "execution_count": null,
   "metadata": {},
   "outputs": [],
   "source": [
    "#Function to define to test username having characters\n",
    "# Upper  case and lower case\n",
    "def testusername(s):\n",
    "    pattern ='^[a-zA-Z]{8}$'\n",
    "    if re.match(pattern,s):\n",
    "        return True\n",
    "    return False\n",
    "print(testusername('GITamhyD')) #true\n",
    "print(testusername('gitAM746')) #false"
   ]
  },
  {
   "cell_type": "markdown",
   "metadata": {},
   "source": [
    "# Regular Expression to match the indian mobile number\n",
    "- 10 Digits\n",
    "- (First digit will be [6-9]) and remaining 9 digits will be [0-9]\n",
    "  - Example:-7032689767(Re--^[6-9][0-9]{9}$)\n",
    "\n",
    "  - Example:-07032689767(Re--^[0][6-9][0-9]{9}$)\n",
    "\n",
    "  - Example:-+917032689767)(Re--^[+][9][1][6-9][0-9]{9}$"
   ]
  },
  {
   "cell_type": "code",
   "execution_count": null,
   "metadata": {
    "scrolled": true
   },
   "outputs": [],
   "source": [
    "#Function to validate the INDIAN Mobile number\n",
    "def phnnumvalidation(phone):\n",
    "    pattern='^[6-9][0-9]{9}$|^[0][6-9][0-9]{9}$|^[+][9][1][6-9][0-9]{9}'\n",
    "    phone=str(phone)\n",
    "    if re.match(pattern,phone):\n",
    "        return True\n",
    "    return False\n",
    "print(phnnumvalidation('09876543210'))\n",
    "print(phnnumvalidation('9876543210'))\n",
    "print(phnnumvalidation('+919876543210'))\n",
    "print(phnnumvalidation('3876543210'))"
   ]
  },
  {
   "cell_type": "markdown",
   "metadata": {},
   "source": [
    "## Regular expression to validate roll number\n",
    "- EXAMPLE : 1521A0501\n",
    "\n",
    "- EXAMPLE : 1521A0109\n",
    "\n",
    "- EXAMPLE : 1521A0499\n",
    "\n",
    "## REGULAR EXPRESSION TO VALIDATE THE PASSWORD\n",
    "\n",
    "- parameters : len min of 6 charaters and max of 15 characters\n",
    "\n",
    "- accept lower case upper case digits special characters ((@,#,!))"
   ]
  },
  {
   "cell_type": "code",
   "execution_count": null,
   "metadata": {},
   "outputs": [],
   "source": [
    "def rollnumvalidation(rollnumber):\n",
    "    pattern='^[1][5][2][1][A][0][0-9]{3}$'\n",
    "    rollnumber=str(rollnumber)\n",
    "    if re.match(pattern,rollnumber):\n",
    "        return True\n",
    "    return False\n",
    "print(rollnumvalidation('1521A0123'))\n",
    "print(rollnumvalidation('123456789'))"
   ]
  },
  {
   "cell_type": "markdown",
   "metadata": {},
   "source": [
    "# similarly (^[a-zA-Z@#!]{6,15}$) for validate password "
   ]
  },
  {
   "cell_type": "markdown",
   "metadata": {},
   "source": [
    "## Email id validation using regular expression\n",
    "- Example:-username@domainname.extension\n",
    "- user name:-\n",
    "        - length will be[6-15]\n",
    "        - No special chars apart from underscore(_)\n",
    "        - chars set :all digits and lowercase\n",
    "- domainname:-\n",
    "        - length will be[3-18]\n",
    "        - no spl chars\n",
    "        - char set-all digits and lower case\n",
    "- extension:-\n",
    "        - length will be[2-4]\n",
    "        - no spl chars\n",
    "        - char set:lower case chars"
   ]
  },
  {
   "cell_type": "code",
   "execution_count": null,
   "metadata": {},
   "outputs": [],
   "source": [
    "import re\n",
    "def emailidvalidation(email):\n",
    "    pattern='^[a-z0-9][a-z0-9_.]{5,14}[@][a-z0-9]{3,18}[.][a-z]{2,4}$'\n",
    "    if re.match(pattern,email):\n",
    "        return True\n",
    "    return False\n",
    "print(emailidvalidation('yerramnikhil36@gmail.com'))"
   ]
  },
  {
   "cell_type": "markdown",
   "metadata": {},
   "source": [
    "# Python Turtle\n",
    "- Turtle Graphics"
   ]
  },
  {
   "cell_type": "code",
   "execution_count": null,
   "metadata": {},
   "outputs": [],
   "source": [
    "#draw a line\n",
    "# Step1: make all the turtle package to be imported\n",
    "import turtle\n",
    "# turtle method creates and returns a new object\n",
    "a1=turtle.Turtle()\n",
    "#Forward()method moves 100 pixels\n",
    "turtle.forward(250)\n",
    "# we are done\n",
    "turtle.done()"
   ]
  },
  {
   "cell_type": "code",
   "execution_count": null,
   "metadata": {},
   "outputs": [],
   "source": [
    "# draw a line backward\n",
    "import turtle as tt\n",
    "a1=tt.Turtle()\n",
    "tt.backward(100)\n",
    "tt.done()"
   ]
  },
  {
   "cell_type": "code",
   "execution_count": null,
   "metadata": {},
   "outputs": [],
   "source": [
    "# Draw a square\n",
    "import turtle as tt\n",
    "a1=tt.Turtle()\n",
    "a1.forward(150)\n",
    "a1.right(90)\n",
    "a1.forward(150)\n",
    "a1.right(90)\n",
    "a1.forward(150)\n",
    "a1.right(90)\n",
    "a1.forward(150)\n",
    "a1.right(90)\n",
    "tt.done()"
   ]
  },
  {
   "cell_type": "code",
   "execution_count": null,
   "metadata": {},
   "outputs": [],
   "source": [
    "import turtle as tt\n",
    "a1=tt.Turtle()\n",
    "a1.backward(150)\n",
    "a1.right(90) # can use left also\n",
    "a1.backward(150)\n",
    "a1.right(90)\n",
    "a1.backward(150)\n",
    "a1.right(90)\n",
    "a1.backward(150)\n",
    "a1.right(90)\n",
    "tt.done()"
   ]
  },
  {
   "cell_type": "code",
   "execution_count": null,
   "metadata": {},
   "outputs": [],
   "source": [
    "# loop statements\n",
    "import turtle as t\n",
    "a1=t.Turtle()\n",
    "for i in range(4):\n",
    "    a1.forward(150)\n",
    "    a1.right(90)\n",
    "t.done()"
   ]
  },
  {
   "cell_type": "code",
   "execution_count": null,
   "metadata": {},
   "outputs": [],
   "source": [
    "# Star\n",
    "import turtle as t\n",
    "a1=t.Turtle()\n",
    "for i in range(5):\n",
    "    a1.forward(50)\n",
    "    a1.right(144)\n",
    "t.done()"
   ]
  },
  {
   "cell_type": "code",
   "execution_count": null,
   "metadata": {},
   "outputs": [],
   "source": [
    "# Spiraling star\n",
    "import turtle as t\n",
    "a1=t.Turtle()\n",
    "a1.pencolor('blue')\n",
    "for i in range(40):\n",
    "    a1.forward(i * 10)\n",
    "    a1.right(144)\n",
    "t.done()"
   ]
  },
  {
   "cell_type": "code",
   "execution_count": null,
   "metadata": {},
   "outputs": [],
   "source": [
    "# Spiraling square\n",
    "import turtle as t\n",
    "a1=t.Turtle()\n",
    "a1.pencolor('blue')\n",
    "for i in range(250):\n",
    "    a1.forward(i)\n",
    "    a1.left(91)\n",
    "t.done()"
   ]
  },
  {
   "cell_type": "code",
   "execution_count": null,
   "metadata": {},
   "outputs": [],
   "source": [
    "# Spiraling hexagon\n",
    "from turtle import *\n",
    "colors=['blue','green','yellow','orange','purple','red']\n",
    "for x in range(360):\n",
    "    pencolor(colors[x%6])\n",
    "    width(x/100+1)\n",
    "    forward(x)\n",
    "    left(59)"
   ]
  },
  {
   "cell_type": "code",
   "execution_count": null,
   "metadata": {},
   "outputs": [],
   "source": [
    "from turtle import *\n",
    "colors=['blue','red','purple','orange','green','yellow']\n",
    "for angle in range(360):\n",
    "    pencolor(colors[angle%6])\n",
    "    setheading(angle)\n",
    "    forward(100)\n",
    "    write(str(angle)+'o')\n",
    "    backward(100)"
   ]
  },
  {
   "cell_type": "code",
   "execution_count": null,
   "metadata": {},
   "outputs": [],
   "source": [
    "# Undo ()function will undo the turtle last action\n",
    "from turtle import *\n",
    "pencolor('blue')\n",
    "for i in range(15):\n",
    "    forward(100)\n",
    "    left(90)\n",
    "    forward(10)\n",
    "    left(90)\n",
    "    forward(100)\n",
    "    right(90)\n",
    "    forward(10)\n",
    "    right(90)\n",
    "pencolor('red')\n",
    "for i in range(90):\n",
    "    undo()"
   ]
  },
  {
   "cell_type": "code",
   "execution_count": null,
   "metadata": {},
   "outputs": [],
   "source": [
    "from turtle import *\n",
    "pensize(50)\n",
    "pencolor('blue')\n",
    "forward(250)\n",
    "pencolor(0,1.0,0)\n",
    "forward(250)\n",
    "pensize(10)\n",
    "goto(-400,50)\n",
    "\n",
    "\n",
    "for red in range(4):\n",
    "    for green in range(4):\n",
    "        for blue in range(4):\n",
    "            pencolor(red/4.0,green/4.0,blue/4.0)\n",
    "            forward(10)"
   ]
  },
  {
   "cell_type": "code",
   "execution_count": null,
   "metadata": {},
   "outputs": [],
   "source": [
    "#  Rectangle,square,circle\n",
    "# fill them with colors\n",
    "import turtle as t\n",
    "a1=t.Turtle()\n",
    "a1.pencolor('blue')\n",
    "for i in range(4):\n",
    "    a1.forward(250)\n",
    "    a1.right(90)\n",
    "a1.fillcolor('orange')\n",
    "t.done()"
   ]
  },
  {
   "cell_type": "code",
   "execution_count": 1,
   "metadata": {
    "scrolled": true
   },
   "outputs": [],
   "source": [
    "import turtle as t\n",
    "a1=t.Turtle()\n",
    "a1.pencolor('blue')\n",
    "a1.fillcolor('orange')\n",
    "a1.begin_fill()\n",
    "a1.forward(250)\n",
    "a1.right(90)\n",
    "a1.forward(150)\n",
    "a1.right(90)\n",
    "a1.forward(250)\n",
    "a1.right(90)\n",
    "a1.forward(150)\n",
    "a1.right(90)\n",
    "a1.end_fill()"
   ]
  },
  {
   "cell_type": "code",
   "execution_count": 1,
   "metadata": {},
   "outputs": [],
   "source": [
    "import turtle \n",
    "t = turtle.Turtle()\n",
    "t.fillcolor('blue')\n",
    "t.begin_fill()\n",
    "for i in range(4):\n",
    "  t.forward(150)\n",
    "  t.right(90)\n",
    "t.end_fill()"
   ]
  },
  {
   "cell_type": "code",
   "execution_count": 2,
   "metadata": {},
   "outputs": [],
   "source": [
    "import turtle \n",
    "t = turtle.Turtle()\n",
    "t.fillcolor('blue')\n",
    "t.begin_fill()\n",
    "t.circle(100)\n",
    "t.end_fill()"
   ]
  },
  {
   "cell_type": "code",
   "execution_count": null,
   "metadata": {},
   "outputs": [],
   "source": [
    "import turtle as tt\n",
    "a1=tt.Turtle()\n",
    "a1.forward(100)\n",
    "a1.right(120)\n",
    "a1.forward(100)\n",
    "a1.right(120)\n",
    "a1.forward(100)\n",
    "a1.right(120)\n",
    "a1.forward(100)\n",
    "a1.right(120)\n",
    "tt.done()\n"
   ]
  },
  {
   "cell_type": "code",
   "execution_count": 3,
   "metadata": {},
   "outputs": [],
   "source": [
    "from turtle import *\n",
    "colors=['red','orange','yellow','seagreen4','orchid4','royalblue1']\n",
    "reset()\n",
    "up()\n",
    "goto(-320,-195)\n",
    "width(90)\n",
    "for pcolor in colors:\n",
    "    color(pcolor)\n",
    "    down()\n",
    "    forward(500)\n",
    "    up()\n",
    "    backward(500)\n",
    "    left(90)\n",
    "    forward(100)\n",
    "    right(90)\n",
    "width(20)\n",
    "color('white')\n",
    "goto(0,-170)\n",
    "down()\n",
    "\n",
    "circle(170)\n",
    "left(90)\n",
    "forward(340)\n",
    "up()\n",
    "left(180)\n",
    "forward(170)\n",
    "up()\n",
    "backward(170) \n",
    "left(90)\n",
    "down()\n",
    "forward(170)\n",
    "up()\n",
    "goto(0,300)"
   ]
  },
  {
   "cell_type": "code",
   "execution_count": null,
   "metadata": {},
   "outputs": [],
   "source": []
  },
  {
   "cell_type": "code",
   "execution_count": null,
   "metadata": {},
   "outputs": [],
   "source": []
  }
 ],
 "metadata": {
  "kernelspec": {
   "display_name": "Python 3",
   "language": "python",
   "name": "python3"
  },
  "language_info": {
   "codemirror_mode": {
    "name": "ipython",
    "version": 3
   },
   "file_extension": ".py",
   "mimetype": "text/x-python",
   "name": "python",
   "nbconvert_exporter": "python",
   "pygments_lexer": "ipython3",
   "version": "3.7.3"
  }
 },
 "nbformat": 4,
 "nbformat_minor": 2
}
