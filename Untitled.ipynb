{
 "cells": [
  {
   "cell_type": "markdown",
   "metadata": {},
   "source": [
    "# markdown basics\n",
    "## markdown basics\n",
    "### markdown basics\n",
    "####  markdown basics\n",
    "#####  markdown basics\n",
    "######  markdown basics\n"
   ]
  },
  {
   "cell_type": "markdown",
   "metadata": {},
   "source": [
    "* *point*\n",
    "* **point**\n",
    "* ***point***\n",
    "* point\n",
    " * sublist 1\n",
    " * sublist 2\n",
    " \n",
    "> 1. point1\n",
    "> 2. point2 \n",
    "\n",
    " ***adding links to markdown***\n",
    "\n",
    "* google site --[1]: https://www.google.com/\n",
    "* msn site    --[2]: https://www.msn.com/en-in\n",
    "- []option 1\n",
    "* google site -- [google][1]\n",
    "[1]: https://www.google.com/"
   ]
  },
  {
   "cell_type": "markdown",
   "metadata": {},
   "source": [
    "### python basics\n",
    "\n",
    "* Python version 3.7 \n",
    "\n",
    "* Functional programming \n",
    "\n",
    "* Object oriented programming \n",
    "\n",
    "* scripting programming"
   ]
  },
  {
   "cell_type": "markdown",
   "metadata": {},
   "source": []
  },
  {
   "cell_type": "code",
   "execution_count": 9,
   "metadata": {
    "scrolled": true
   },
   "outputs": [
    {
     "name": "stdout",
     "output_type": "stream",
     "text": [
      "hello,gitam\n",
      "Hyderabad\n"
     ]
    }
   ],
   "source": [
    "\n",
    "print(\"hello,gitam\")\n",
    "print(\"Hyderabad\")"
   ]
  },
  {
   "cell_type": "code",
   "execution_count": 10,
   "metadata": {},
   "outputs": [
    {
     "name": "stdout",
     "output_type": "stream",
     "text": [
      "Hello ,Gitam |||Hyderabad|||Python Programming\n"
     ]
    }
   ],
   "source": [
    "print(\"Hello ,Gitam\",\"|||\",end=\"\")\n",
    "print(\"Hyderabad\",end=\"|||\")\n",
    "print(\"Python Programming\")"
   ]
  },
  {
   "cell_type": "code",
   "execution_count": 12,
   "metadata": {},
   "outputs": [
    {
     "name": "stdout",
     "output_type": "stream",
     "text": [
      "100\n"
     ]
    }
   ],
   "source": [
    "n1=100\n",
    "print(n1)"
   ]
  },
  {
   "cell_type": "code",
   "execution_count": 16,
   "metadata": {},
   "outputs": [
    {
     "name": "stdout",
     "output_type": "stream",
     "text": [
      "100\n",
      "20 20 20\n",
      "111 222 333\n"
     ]
    }
   ],
   "source": [
    "n1=100 #single variable assignment\n",
    "a=b=c=20 # multi variable assignment of the same value\n",
    "a1,b1,c1=111,222,333 #multi variable assignment with different values\n",
    "print(n1)\n",
    "print(a,b,c)\n",
    "print(a1,b1,c1)"
   ]
  },
  {
   "cell_type": "code",
   "execution_count": null,
   "metadata": {},
   "outputs": [],
   "source": []
  },
  {
   "cell_type": "markdown",
   "metadata": {},
   "source": [
    "#Data Types and conversions\n",
    "\n",
    "* integer\n",
    "* float\n",
    "* string"
   ]
  },
  {
   "cell_type": "code",
   "execution_count": 18,
   "metadata": {},
   "outputs": [
    {
     "name": "stdout",
     "output_type": "stream",
     "text": [
      "100 python 1.67\n",
      "<class 'int'> <class 'str'> <class 'float'>\n"
     ]
    }
   ],
   "source": [
    "a=100\n",
    "s1=\"python\"\n",
    "f1=1.67\n",
    "print(a,s1,f1)\n",
    "print(type(a),type(s1),type(f1))"
   ]
  },
  {
   "cell_type": "code",
   "execution_count": 3,
   "metadata": {},
   "outputs": [
    {
     "name": "stdout",
     "output_type": "stream",
     "text": [
      "enter number 1 12\n",
      "enter number 2 23\n",
      "enter the number 3 67\n",
      "67 is large\n"
     ]
    }
   ],
   "source": [
    "# Find the largest number among give 3 numbers\n",
    "a1=int(input(\"enter number 1 \"))\n",
    "a2=int(input(\"enter number 2 \"))\n",
    "a3=int(input(\"enter the number 3 \"))\n",
    "\n",
    "if a1>a2 and a1>a3:\n",
    "    print(a1,\"is large\")\n",
    "elif a2>a3 and a2>a1:\n",
    "    print(a2,\"is large\")\n",
    "else:\n",
    "    print(a3,\"is large\")"
   ]
  },
  {
   "cell_type": "code",
   "execution_count": 7,
   "metadata": {},
   "outputs": [
    {
     "name": "stdout",
     "output_type": "stream",
     "text": [
      "enter year120\n",
      "leap year\n"
     ]
    }
   ],
   "source": [
    "# check if a year is leap year or not\n",
    "y=int(input(\"enter year\"))\n",
    "if y%400 ==0 or (y %100!=0 and y % 4 == 0):\n",
    "    print(\"leap year\")\n",
    "else :\n",
    "    print(\"not leap year\")\n"
   ]
  },
  {
   "cell_type": "markdown",
   "metadata": {},
   "source": [
    "### ITERATION\n",
    "- while\n",
    "- for\n",
    "\n",
    "Syntax:"
   ]
  },
  {
   "cell_type": "code",
   "execution_count": 8,
   "metadata": {},
   "outputs": [
    {
     "name": "stdout",
     "output_type": "stream",
     "text": [
      "Gitam\n",
      "Gitam\n",
      "Gitam\n",
      "Gitam\n",
      "Gitam\n"
     ]
    }
   ],
   "source": [
    "x=0\n",
    "while x<5:\n",
    "    print(\"Gitam\")\n",
    "    x=x+1"
   ]
  },
  {
   "cell_type": "code",
   "execution_count": 11,
   "metadata": {},
   "outputs": [
    {
     "name": "stdout",
     "output_type": "stream",
     "text": [
      "enter value of n9\n",
      "1\n",
      "2\n",
      "3\n",
      "4\n",
      "5\n",
      "6\n",
      "7\n",
      "8\n",
      "9\n"
     ]
    }
   ],
   "source": [
    "# print n natural numbers using while loop\n",
    "# input is 10 \n",
    "# output-1 2 3 4 5 6 7 8 9 10\n",
    "x=1\n",
    "n=int(input(\"enter value of n\"))\n",
    "while x<=n:\n",
    "    print(x)\n",
    "    x=x+1"
   ]
  },
  {
   "cell_type": "code",
   "execution_count": 16,
   "metadata": {},
   "outputs": [
    {
     "name": "stdout",
     "output_type": "stream",
     "text": [
      "enter value of n 67\n",
      "1 2 3 4 5 6 7 8 9 10 11 12 13 14 15 16 17 18 19 20 21 22 23 24 25 26 27 28 29 30 31 32 33 34 35 36 37 38 39 40 41 42 43 44 45 46 47 48 49 50 51 52 53 54 55 56 57 58 59 60 61 62 63 64 65 66 67 "
     ]
    }
   ],
   "source": [
    "x=1\n",
    "n=int(input(\"enter value of n \"))\n",
    "while x<=n:\n",
    "    print(x,end =\" \")\n",
    "    x=x+1"
   ]
  },
  {
   "cell_type": "code",
   "execution_count": null,
   "metadata": {},
   "outputs": [],
   "source": [
    "# Read a number -- n\n",
    "# addonly even numbers between 1 to n\n",
    "# input -- 10\n",
    "# output -- 30(2+4+6+8+10)\n",
    "n=int(input(\"enter the number\"))\n",
    "x=1\n",
    "s=0\n",
    "while x%2==0:\n",
    "    if x<=n:\n",
    "        s=s+x\n",
    "    x=x+1\n",
    "        \n",
    "print(s)"
   ]
  },
  {
   "cell_type": "code",
   "execution_count": null,
   "metadata": {},
   "outputs": [],
   "source": [
    "# Read a number n\n",
    "# addonly even numbers between 1 to n\n",
    "# input 10\n",
    "# output 30(2+4+6+8+10)\n",
    "\n",
    "n=int(input(\"enter the number\"))\n",
    "x=1\n",
    "sum=0\n",
    "while x%2==0:\n",
    "    if x<=n:\n",
    "        sum=sum+x\n",
    "    x=x+1\n",
    "        \n",
    "print(sum)"
   ]
  },
  {
   "cell_type": "code",
   "execution_count": null,
   "metadata": {},
   "outputs": [],
   "source": [
    "# number as a number --123\n",
    "# print the digits of a given number : 3 2 1\n"
   ]
  },
  {
   "cell_type": "code",
   "execution_count": null,
   "metadata": {},
   "outputs": [],
   "source": []
  },
  {
   "cell_type": "code",
   "execution_count": null,
   "metadata": {},
   "outputs": [],
   "source": []
  }
 ],
 "metadata": {
  "kernelspec": {
   "display_name": "Python 3",
   "language": "python",
   "name": "python3"
  },
  "language_info": {
   "codemirror_mode": {
    "name": "ipython",
    "version": 3
   },
   "file_extension": ".py",
   "mimetype": "text/x-python",
   "name": "python",
   "nbconvert_exporter": "python",
   "pygments_lexer": "ipython3",
   "version": "3.7.3"
  }
 },
 "nbformat": 4,
 "nbformat_minor": 2
}
